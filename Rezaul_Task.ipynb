{
 "cells": [
  {
   "cell_type": "code",
   "execution_count": 2,
   "source": [
    "### Task = 1"
   ],
   "outputs": [],
   "metadata": {}
  },
  {
   "cell_type": "code",
   "execution_count": 8,
   "source": [
    "## Arithmatic Operator\r\n",
    "# num = 4\r\n",
    "# num = 5\r\n",
    "4 + 5\r\n",
    "5 - 4\r\n",
    "5 * 4\r\n",
    "5 / 4\r\n",
    "5 // 4\r\n",
    "5 % 4"
   ],
   "outputs": [
    {
     "output_type": "execute_result",
     "data": {
      "text/plain": [
       "1"
      ]
     },
     "metadata": {},
     "execution_count": 8
    }
   ],
   "metadata": {}
  },
  {
   "cell_type": "code",
   "execution_count": null,
   "source": [],
   "outputs": [],
   "metadata": {}
  }
 ],
 "metadata": {
  "orig_nbformat": 4,
  "language_info": {
   "name": "python",
   "version": "3.9.7",
   "mimetype": "text/x-python",
   "codemirror_mode": {
    "name": "ipython",
    "version": 3
   },
   "pygments_lexer": "ipython3",
   "nbconvert_exporter": "python",
   "file_extension": ".py"
  },
  "kernelspec": {
   "name": "python3",
   "display_name": "Python 3.9.7 64-bit"
  },
  "interpreter": {
   "hash": "26765797518c84542f65ca3ad0c59ddd84745504ff99c2dbcf955accc2de11b6"
  }
 },
 "nbformat": 4,
 "nbformat_minor": 2
}