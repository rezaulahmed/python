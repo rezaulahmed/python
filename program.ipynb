{
 "cells": [
  {
   "cell_type": "markdown",
   "source": [],
   "metadata": {}
  },
  {
   "cell_type": "code",
   "execution_count": null,
   "source": [],
   "outputs": [],
   "metadata": {}
  },
  {
   "cell_type": "code",
   "execution_count": null,
   "source": [
    "name=input(\"Enter your name:\")\r\n",
    "print(\"Greetings!\", name)"
   ],
   "outputs": [],
   "metadata": {}
  },
  {
   "cell_type": "markdown",
   "source": [
    "##variables\r\n"
   ],
   "metadata": {}
  },
  {
   "cell_type": "code",
   "execution_count": null,
   "source": [
    "print(\"Greetings!\", name)"
   ],
   "outputs": [],
   "metadata": {}
  },
  {
   "cell_type": "code",
   "execution_count": null,
   "source": [
    "import keyword\r\n",
    "Keyword.Kwlist"
   ],
   "outputs": [],
   "metadata": {}
  },
  {
   "cell_type": "code",
   "execution_count": null,
   "source": [
    "import keyword\r\n",
    "keyword.kwlist"
   ],
   "outputs": [],
   "metadata": {}
  },
  {
   "cell_type": "code",
   "execution_count": null,
   "source": [
    "## string\r\n",
    "name='happy'\r\n",
    "type(name)\r\n",
    "name + '@'\r\n",
    "name * 4\r\n",
    "## sting Functions\r\n",
    "name.upper()\r\n",
    "name.lower()\r\n",
    "name.count('p')\r\n",
    "name.split('p')\r\n",
    "name.replace('p','@')\r\n",
    "print(name.upper(),name.lower())"
   ],
   "outputs": [],
   "metadata": {}
  },
  {
   "cell_type": "code",
   "execution_count": null,
   "source": [
    "##Number\r\n",
    "#int\r\n",
    "age = 24\r\n",
    "type(age)\r\n",
    "## Float\r\n",
    "weight = 55.5\r\n",
    "type(weight)\r\n",
    "## Boolean\r\n",
    "is_married = False\r\n",
    "type(is_married)\r\n",
    "# complex\r\n",
    "com = 2+3j\r\n",
    "type(com)"
   ],
   "outputs": [],
   "metadata": {}
  },
  {
   "cell_type": "markdown",
   "source": [],
   "metadata": {}
  },
  {
   "cell_type": "code",
   "execution_count": null,
   "source": [
    "#type conversion\r\n",
    "n = 'H'\r\n",
    "n = '2'\r\n",
    "print(type(n))\r\n",
    "newN = int(n)\r\n",
    "type(newN)\r\n",
    "fn = float(newN)\r\n",
    "print(fn)\r\n",
    "bn = bool(fn)\r\n",
    "bn\r\n",
    "complex(2)\r\n"
   ],
   "outputs": [],
   "metadata": {}
  },
  {
   "cell_type": "code",
   "execution_count": null,
   "source": [
    "##\r\n",
    "name = input('Enter name')\r\n",
    "age = input('Enter your age')\r\n",
    "weight = input('Enter your weight')\r\n",
    "print('your account created successfully')\r\n",
    "type(age),type(weight)"
   ],
   "outputs": [],
   "metadata": {}
  },
  {
   "cell_type": "code",
   "execution_count": null,
   "source": [
    "#how to use print function\r\n",
    "print(\"hello\",\"welcome\")\r\n",
    "print('\"Book\"-\\n Austin')\r\n",
    "print('\\t welcome')"
   ],
   "outputs": [],
   "metadata": {}
  },
  {
   "cell_type": "code",
   "execution_count": null,
   "source": [
    "## string formatting\r\n",
    "print(name,'your account created successfully',age,weight)\r\n",
    "\r\n"
   ],
   "outputs": [],
   "metadata": {}
  },
  {
   "cell_type": "code",
   "execution_count": null,
   "source": [
    "## operators\r\n"
   ],
   "outputs": [],
   "metadata": {}
  },
  {
   "cell_type": "markdown",
   "source": [
    "## Operators"
   ],
   "metadata": {}
  },
  {
   "cell_type": "markdown",
   "source": [],
   "metadata": {}
  },
  {
   "cell_type": "markdown",
   "source": [],
   "metadata": {}
  },
  {
   "cell_type": "markdown",
   "source": [],
   "metadata": {}
  },
  {
   "cell_type": "markdown",
   "source": [],
   "metadata": {}
  },
  {
   "cell_type": "code",
   "execution_count": null,
   "source": [
    "\r\n"
   ],
   "outputs": [],
   "metadata": {}
  },
  {
   "cell_type": "code",
   "execution_count": null,
   "source": [],
   "outputs": [],
   "metadata": {}
  },
  {
   "cell_type": "code",
   "execution_count": null,
   "source": [
    "## operators"
   ],
   "outputs": [],
   "metadata": {}
  },
  {
   "cell_type": "markdown",
   "source": [
    "## Arithmatic\r\n",
    "5+4"
   ],
   "metadata": {}
  },
  {
   "cell_type": "markdown",
   "source": [
    "##Operators"
   ],
   "metadata": {}
  },
  {
   "cell_type": "code",
   "execution_count": null,
   "source": [],
   "outputs": [],
   "metadata": {}
  },
  {
   "cell_type": "markdown",
   "source": [
    "## Ariithmatic\r\n",
    "5+4"
   ],
   "metadata": {}
  },
  {
   "cell_type": "markdown",
   "source": [],
   "metadata": {}
  },
  {
   "cell_type": "markdown",
   "source": [],
   "metadata": {}
  },
  {
   "cell_type": "markdown",
   "source": [
    "## Arithmatic\r\n",
    "5+4\r\n"
   ],
   "metadata": {}
  },
  {
   "cell_type": "code",
   "execution_count": 59,
   "source": [
    "## Arithmatic\r\n",
    "4/2\r\n",
    "5+4\r\n",
    "4*2\r\n",
    "5/2\r\n",
    "4//2\r\n",
    "5 % 2\r\n",
    "2 ** 2\r\n"
   ],
   "outputs": [
    {
     "output_type": "execute_result",
     "data": {
      "text/plain": [
       "4"
      ]
     },
     "metadata": {},
     "execution_count": 59
    }
   ],
   "metadata": {}
  },
  {
   "cell_type": "markdown",
   "source": [],
   "metadata": {}
  },
  {
   "cell_type": "markdown",
   "source": [
    "## LOgical Operator"
   ],
   "metadata": {}
  },
  {
   "cell_type": "markdown",
   "source": [
    "##Comparision Operator\r\n",
    "2==2\r\n"
   ],
   "metadata": {}
  },
  {
   "cell_type": "code",
   "execution_count": null,
   "source": [
    "## Comparision \r\n",
    "2 == 2\r\n",
    "2 == 3\r\n",
    "2 != 3\r\n",
    "2 != 2\r\n",
    "3 > 2\r\n",
    "3 < 2\r\n",
    "2 >= 1\r\n",
    "1 >= 1\r\n",
    "0 >= 1"
   ],
   "outputs": [],
   "metadata": {}
  },
  {
   "cell_type": "code",
   "execution_count": null,
   "source": [
    "## LOgical operator\r\n",
    "## and\r\n",
    "True and True\r\n",
    "True and False\r\n",
    "False and True\r\n",
    "False and False\r\n",
    "## Or\r\n",
    "True or True\r\n",
    "True or False\r\n",
    "False or True\r\n",
    "False or False\r\n",
    "## not\r\n",
    "not True\r\n",
    "not False"
   ],
   "outputs": [],
   "metadata": {}
  },
  {
   "cell_type": "markdown",
   "source": [],
   "metadata": {}
  },
  {
   "cell_type": "markdown",
   "source": [
    "## Bitwasie Operator\r\n",
    "# p = 8 4 2 1\r\n",
    "# 5 = 0 1 0 1\r\n",
    "5 & 2\r\n"
   ],
   "metadata": {}
  },
  {
   "cell_type": "code",
   "execution_count": null,
   "source": [
    "## Bitwise operator\r\n",
    "# p = 8 4 2 1\r\n",
    "# 5 = 0 1 0 1\r\n",
    "# 3 = 0 0 1 1\r\n",
    "5 ^ 3\r\n",
    "\r\n",
    "## or\r\n",
    "5 | 2\r\n",
    "~ 6\r\n",
    "~ 7\r\n",
    "~ -6\r\n",
    "5 ^ 2"
   ],
   "outputs": [],
   "metadata": {}
  },
  {
   "cell_type": "code",
   "execution_count": 53,
   "source": [
    " # p = 8 4 2 1 \r\n",
    " 3 >> 2\r\n",
    "# 5 = 0 1 0 1\r\n",
    "# 4 = o 1 0 0\r\n",
    "3 >> 2"
   ],
   "outputs": [
    {
     "output_type": "execute_result",
     "data": {
      "text/plain": [
       "0"
      ]
     },
     "metadata": {},
     "execution_count": 53
    }
   ],
   "metadata": {}
  },
  {
   "cell_type": "markdown",
   "source": [],
   "metadata": {}
  },
  {
   "cell_type": "code",
   "execution_count": 52,
   "source": [
    "p = 8 4 2 1\r\n"
   ],
   "outputs": [
    {
     "output_type": "error",
     "ename": "SyntaxError",
     "evalue": "invalid syntax (Temp/ipykernel_4112/4028763764.py, line 1)",
     "traceback": [
      "\u001b[1;36m  File \u001b[1;32m\"C:\\Users\\Reza\\AppData\\Local\\Temp/ipykernel_4112/4028763764.py\"\u001b[1;36m, line \u001b[1;32m1\u001b[0m\n\u001b[1;33m    p = 8 4 2 1\u001b[0m\n\u001b[1;37m          ^\u001b[0m\n\u001b[1;31mSyntaxError\u001b[0m\u001b[1;31m:\u001b[0m invalid syntax\n"
     ]
    }
   ],
   "metadata": {}
  },
  {
   "cell_type": "code",
   "execution_count": 62,
   "source": [
    "## Assignment\r\n",
    "# =\r\n",
    "\r\n",
    "num = 3\r\n",
    "num **= 2\r\n",
    "num"
   ],
   "outputs": [
    {
     "output_type": "execute_result",
     "data": {
      "text/plain": [
       "9"
      ]
     },
     "metadata": {},
     "execution_count": 62
    }
   ],
   "metadata": {}
  },
  {
   "cell_type": "code",
   "execution_count": 72,
   "source": [
    "## Special operator\r\n",
    "# in\r\n",
    "'Y'  not in 'happy'\r\n",
    "a = 2\r\n",
    "b = 2.0\r\n",
    "(a is b)\r\n",
    "a == b, ( a is b)"
   ],
   "outputs": [
    {
     "output_type": "execute_result",
     "data": {
      "text/plain": [
       "(True, False)"
      ]
     },
     "metadata": {},
     "execution_count": 72
    }
   ],
   "metadata": {}
  },
  {
   "cell_type": "markdown",
   "source": [],
   "metadata": {}
  }
 ],
 "metadata": {
  "orig_nbformat": 4,
  "language_info": {
   "name": "python",
   "version": "3.9.7",
   "mimetype": "text/x-python",
   "codemirror_mode": {
    "name": "ipython",
    "version": 3
   },
   "pygments_lexer": "ipython3",
   "nbconvert_exporter": "python",
   "file_extension": ".py"
  },
  "kernelspec": {
   "name": "python3",
   "display_name": "Python 3.9.7 64-bit"
  },
  "interpreter": {
   "hash": "26765797518c84542f65ca3ad0c59ddd84745504ff99c2dbcf955accc2de11b6"
  }
 },
 "nbformat": 4,
 "nbformat_minor": 2
}